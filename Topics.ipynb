{
 "cells": [
  {
   "cell_type": "code",
   "execution_count": 1,
   "metadata": {
    "collapsed": true
   },
   "outputs": [],
   "source": [
    "import os\n",
    "import pickle \n",
    "import re\n",
    "import gc\n",
    "\n",
    "import numpy as np\n",
    "\n",
    "from pymorphy2 import MorphAnalyzer\n",
    "\n",
    "from sklearn.feature_extraction.text import TfidfVectorizer, CountVectorizer, HashingVectorizer\n",
    "from sklearn.decomposition import LatentDirichletAllocation\n",
    "\n",
    "from nltk.corpus import stopwords\n",
    "from nltk.tokenize import RegexpTokenizer\n",
    "\n",
    "\n",
    "from pymongo import MongoClient\n",
    "\n",
    "from collections import defaultdict\n",
    "\n",
    "import tqdm\n",
    "\n",
    "from sklearn.manifold import TSNE\n",
    "from sklearn.decomposition import PCA\n",
    "\n",
    "import matplotlib.pyplot as plt\n",
    "import seaborn as sns\n",
    "%matplotlib inline\n",
    "\n",
    "# from utility import Stemmizer\n",
    "from gensim import corpora, models\n",
    "\n",
    "\n",
    "import json"
   ]
  },
  {
   "cell_type": "code",
   "execution_count": 2,
   "metadata": {},
   "outputs": [
    {
     "name": "stdout",
     "output_type": "stream",
     "text": [
      "env: JOBLIB_TEMP_FOLDER=/home/willywonka0922/tmp\n"
     ]
    }
   ],
   "source": [
    "%env JOBLIB_TEMP_FOLDER=/home/willywonka0922/tmp"
   ]
  },
  {
   "cell_type": "code",
   "execution_count": 3,
   "metadata": {
    "collapsed": true
   },
   "outputs": [],
   "source": [
    "def read_stops():\n",
    "    res = set()\n",
    "    with open('stops.txt') as in_file:\n",
    "        for line in in_file:\n",
    "            res.add(line.strip())\n",
    "    \n",
    "    return res"
   ]
  },
  {
   "cell_type": "code",
   "execution_count": 4,
   "metadata": {
    "collapsed": true
   },
   "outputs": [],
   "source": [
    "# morpher = MorphAnalyzer()\n",
    "\n",
    "# russian_stopwords = set(stopwords.words('russian'))\n",
    "# english_stopwords = set(stopwords.words('english'))\n",
    "# custom_stops = {'br', 'ask', 'fm', 'http', 'https', 'www', 'ru', 'com', 'vk', 'view',\n",
    "#                 'vkontakte', 'd1', 'd0', 'amp', 'utm_source',  'utm_medium', 'utm_campaign'}\n",
    "\n",
    "# stops = russian_stopwords | english_stopwords | custom_stops | read_stops()\n",
    "\n",
    "# tokenizer = RegexpTokenizer(r'\\w+')\n",
    "# s = Stemmizer()"
   ]
  },
  {
   "cell_type": "code",
   "execution_count": 5,
   "metadata": {
    "collapsed": true
   },
   "outputs": [],
   "source": [
    "polit_views = {\n",
    "                1 : 'Communist',\n",
    "                2 : 'Socialist',\n",
    "                3 : 'Moderate',\n",
    "                4 : 'Liberal',\n",
    "                5 : 'Conservative',\n",
    "                6 : 'Monarchist',\n",
    "                7 : 'Ultraconservative',\n",
    "                8 : 'Apathetic',\n",
    "                9 : 'Libertian'\n",
    "                }"
   ]
  },
  {
   "cell_type": "code",
   "execution_count": 6,
   "metadata": {
    "collapsed": true
   },
   "outputs": [],
   "source": [
    "def create_or_load_ids_dict(db):\n",
    "    if os.path.exists('ids_indices_dict.pickle'):\n",
    "        with open('ids_indices_dict.pickle', 'rb') as handle:\n",
    "            return pickle.load(handle)\n",
    "\n",
    "    ids = [user['uid'] for user in db.users.find()]\n",
    "    indices = list(range(len(ids)))\n",
    "\n",
    "    dictionary = dict(zip(ids, indices))\n",
    "    dictionary.update(zip(indices, ids))\n",
    "\n",
    "    with open('ids_indices_dict.pickle', 'wb') as handle:\n",
    "        pickle.dump(dictionary, handle)\n",
    "\n",
    "    return dictionary\n",
    "\n",
    "def create_or_load_users_to_posts(db, ids_indices_dict):\n",
    "    if os.path.exists('users_to_posts.pickle'):\n",
    "        with open('users_to_posts.pickle', 'rb') as handle:\n",
    "            return pickle.load(handle)\n",
    "\n",
    "    users_to_posts = defaultdict(str)\n",
    "\n",
    "    for user_post in tqdm.tqdm_notebook(db.wall_posts.find(), total=db.wall_posts.count()):\n",
    "        users_to_posts[ids_indices_dict[user_post['from_id']]] += user_post['text']\n",
    "\n",
    "    with open('users_to_posts.pickle', 'wb') as handle:\n",
    "        pickle.dump(users_to_posts, handle)\n",
    "\n",
    "    return users_to_posts\n",
    "\n",
    "\n",
    "def stemming(text):    \n",
    "    return s.process(text)\n",
    "\n",
    "def links_content_map():\n",
    "    res = defaultdict(list)\n",
    "    \n",
    "    for link in db.links_content.find():\n",
    "        res[link['url']].append(link)\n",
    "    \n",
    "    return res\n",
    "\n",
    "\n",
    "def user_links_map():\n",
    "    res = defaultdict(list)\n",
    "    \n",
    "    for user_links in db.links.find():\n",
    "        res[user_links['uid']].append(user_links)\n",
    "    \n",
    "    return res\n",
    "\n",
    "\n",
    "def process_user(db, uid, users_to_posts, ids_indices_dict, links_content, user_links_m):\n",
    "    text = ''\n",
    "\n",
    "    def not_none(value):\n",
    "        return value if value is not None else ''\n",
    "\n",
    "    for user_links in user_links_m[uid]:\n",
    "        for user_link in user_links['links']:\n",
    "            for link in links_content[user_link]:\n",
    "                if link['type'] == 'sprashivai':\n",
    "                    text += ' '.join(not_none(link['answers']))\n",
    "                elif link['type'] == 'livejournal' or link['type'] == 'pikabu':\n",
    "                    text += ' ' + not_none(link['title'])\n",
    "                    text += ' ' + not_none(link['text'])\n",
    "                elif link['type'] == 'youtube':\n",
    "                    text += ' ' + not_none(link['description'])\n",
    "                    text += ' '.join(not_none(link['tags']))\n",
    "                    text += ' ' + not_none(link['name'])\n",
    "                elif link['type'] == 'ali':\n",
    "                    text += ' ' + not_none(link['name'])\n",
    "                elif link['type'] == 'ask':\n",
    "                    text += ' '.join(not_none(link['answers']))\n",
    "                elif link['type'] == 'unknown':\n",
    "                    text += ' ' + not_none(link['description'])\n",
    "                    text += ' ' + not_none(link['title'])\n",
    "                    \n",
    "    for u in db.user_info.find({'uid':uid}):\n",
    "        u =  defaultdict(str, u)\n",
    "        \n",
    "        text += ' ' + u['about']\n",
    "        text += ' ' + u['quotes']\n",
    "        text += ' ' + u['activities']\n",
    "        text += ' ' + u['interests']\n",
    "        text += ' ' + u['music']\n",
    "        text += ' ' + u['movies']\n",
    "        text += ' ' + u['tv']\n",
    "        text += ' ' + u['books']\n",
    "        \n",
    "    text += ' ' + users_to_posts[ids_indices_dict[uid]]\n",
    "    \n",
    "    return stemming(text)"
   ]
  },
  {
   "cell_type": "code",
   "execution_count": 7,
   "metadata": {
    "collapsed": true
   },
   "outputs": [],
   "source": [
    "client = MongoClient()\n",
    "db = client.ir_project"
   ]
  },
  {
   "cell_type": "code",
   "execution_count": 8,
   "metadata": {
    "collapsed": true
   },
   "outputs": [],
   "source": [
    "def read_or_create_texts():\n",
    "    try:\n",
    "        with open('users_texts.bin', 'rb') as in_file:\n",
    "            return pickle.load(in_file)\n",
    "    except:\n",
    "        ids = create_or_load_ids_dict(db)\n",
    "        users_to_posts = create_or_load_users_to_posts(db, ids)\n",
    "        \n",
    "        links_content = links_content_map()\n",
    "        user_links = user_links_map()\n",
    "        \n",
    "        print('Total links parsed: {}'.format(len(links_content)))\n",
    "        \n",
    "        users_texts = dict()\n",
    "\n",
    "        for u in tqdm.tqdm_notebook(db.users.find(no_cursor_timeout=True), total=db.users.count()):\n",
    "            users_texts[u['uid']] = process_user(db, u['uid'], users_to_posts, ids, links_content, user_links)\n",
    "            \n",
    "        with open('users_texts.bin', 'wb') as out:\n",
    "            pickle.dump(users_texts, out)\n",
    "            \n",
    "        return users_texts"
   ]
  },
  {
   "cell_type": "code",
   "execution_count": 9,
   "metadata": {
    "collapsed": true
   },
   "outputs": [],
   "source": [
    "TOP_WORDS = 10\n",
    "TOPICS_COUNT = 20*20"
   ]
  },
  {
   "cell_type": "code",
   "execution_count": 10,
   "metadata": {
    "collapsed": true
   },
   "outputs": [],
   "source": [
    "def print_top_words(model, feature_names, n_top_words):\n",
    "    for topic_idx, topic in enumerate(model.components_):\n",
    "        print(\"Topic #%d:\" % topic_idx)\n",
    "        print(\" \".join([feature_names[i]\n",
    "                        for i in topic.argsort()[:-n_top_words - 1:-1]]))\n",
    "    print()"
   ]
  },
  {
   "cell_type": "code",
   "execution_count": 11,
   "metadata": {
    "collapsed": true
   },
   "outputs": [],
   "source": [
    "# try:\n",
    "#     tf = pickle.load(open('tf.pickle', 'rb'))\n",
    "#     cv = pickle.load(open('vect.bin', 'rb'))\n",
    "# except:\n",
    "#     print('cannot load tf.pickle, creating it')\n",
    "#     users_texts = json.load(open('forward_index.json'))\n",
    "#     only_texts = [t for t in users_texts.values()]\n",
    "    \n",
    "#     tf_vectorizer = CountVectorizer(min_df = 10, max_df = 0.85, max_features=50000)\n",
    "#     tf = tf_vectorizer.fit_transform(only_texts)\n",
    "    \n",
    "#     pickle.dump(tf, open('tf.pickle', 'wb'))"
   ]
  },
  {
   "cell_type": "code",
   "execution_count": 12,
   "metadata": {
    "collapsed": true
   },
   "outputs": [],
   "source": [
    "users_texts = json.load(open('forward_index.json'))"
   ]
  },
  {
   "cell_type": "code",
   "execution_count": 13,
   "metadata": {},
   "outputs": [
    {
     "data": {
      "application/vnd.jupyter.widget-view+json": {
       "model_id": "fcfef65e91ea45ae85059efbde451d78",
       "version_major": 2,
       "version_minor": 0
      },
      "text/plain": [
       "A Jupyter Widget"
      ]
     },
     "metadata": {},
     "output_type": "display_data"
    },
    {
     "name": "stdout",
     "output_type": "stream",
     "text": [
      "\n"
     ]
    }
   ],
   "source": [
    "text_lens = {int(uid):len(t.split()) for uid, t in tqdm.tqdm_notebook(users_texts.items())}"
   ]
  },
  {
   "cell_type": "code",
   "execution_count": 14,
   "metadata": {},
   "outputs": [
    {
     "data": {
      "application/vnd.jupyter.widget-view+json": {
       "model_id": "fc1dea9b4ce14db2ae2d4a1c95928e1a",
       "version_major": 2,
       "version_minor": 0
      },
      "text/plain": [
       "A Jupyter Widget"
      ]
     },
     "metadata": {},
     "output_type": "display_data"
    },
    {
     "name": "stdout",
     "output_type": "stream",
     "text": [
      "\n"
     ]
    }
   ],
   "source": [
    "uid_for_topics = list()\n",
    "\n",
    "for uid, t in tqdm.tqdm_notebook(users_texts.items()):\n",
    "    num_words = len(t.split())\n",
    "    \n",
    "    if num_words >= 10 and num_words <= 100:\n",
    "        uid_for_topics.append(uid)"
   ]
  },
  {
   "cell_type": "code",
   "execution_count": 48,
   "metadata": {},
   "outputs": [
    {
     "data": {
      "text/plain": [
       "<matplotlib.axes._subplots.AxesSubplot at 0x7f0ea30ee400>"
      ]
     },
     "execution_count": 48,
     "metadata": {},
     "output_type": "execute_result"
    },
    {
     "data": {
      "image/png": "[encoded data removed]",
      "text/plain": [
       "<matplotlib.figure.Figure at 0x7f0ea30c1358>"
      ]
     },
     "metadata": {},
     "output_type": "display_data"
    }
   ],
   "source": [
    "plt.figure(figsize=(15,10))\n",
    "sns.distplot([t for t in text_lens.values() if (t <= 150) and t >= 10], kde=False)"
   ]
  },
  {
   "cell_type": "code",
   "execution_count": 16,
   "metadata": {},
   "outputs": [
    {
     "data": {
      "application/vnd.jupyter.widget-view+json": {
       "model_id": "b0915bd540684ccda5d6c1110067d998",
       "version_major": 2,
       "version_minor": 0
      },
      "text/plain": [
       "A Jupyter Widget"
      ]
     },
     "metadata": {},
     "output_type": "display_data"
    },
    {
     "name": "stdout",
     "output_type": "stream",
     "text": [
      "\n"
     ]
    }
   ],
   "source": [
    "only_texts = [users_texts[uid].split() for uid in tqdm.tqdm_notebook(uid_for_topics)]"
   ]
  },
  {
   "cell_type": "code",
   "execution_count": 17,
   "metadata": {
    "collapsed": true
   },
   "outputs": [],
   "source": [
    "dictionary = corpora.Dictionary(only_texts)"
   ]
  },
  {
   "cell_type": "code",
   "execution_count": 18,
   "metadata": {},
   "outputs": [
    {
     "data": {
      "application/vnd.jupyter.widget-view+json": {
       "model_id": "7eeabf12af134b4cac2a4b329fb8e6fb",
       "version_major": 2,
       "version_minor": 0
      },
      "text/plain": [
       "A Jupyter Widget"
      ]
     },
     "metadata": {},
     "output_type": "display_data"
    },
    {
     "name": "stdout",
     "output_type": "stream",
     "text": [
      "\n"
     ]
    }
   ],
   "source": [
    "corpus = [dictionary.doc2bow(text) for text in tqdm.tqdm_notebook(only_texts)]"
   ]
  },
  {
   "cell_type": "code",
   "execution_count": 20,
   "metadata": {},
   "outputs": [
    {
     "name": "stderr",
     "output_type": "stream",
     "text": [
      "/home/willywonka0922/anaconda3/lib/python3.6/site-packages/gensim/models/ldamodel.py:802: RuntimeWarning: divide by zero encountered in log\n",
      "  diff = np.log(self.expElogbeta)\n"
     ]
    }
   ],
   "source": [
    "# ldamodel = models.ldamodel.LdaModel(corpus, num_topics=100, id2word = dictionary, passes=20)\n",
    "ldamodel = models.ldamulticore.LdaMulticore(corpus, num_topics=100, id2word = dictionary, passes=20, workers=6)"
   ]
  },
  {
   "cell_type": "code",
   "execution_count": 46,
   "metadata": {
    "collapsed": true
   },
   "outputs": [],
   "source": [
    "pickle.dump(dictionary, open('gensim_dict.pickle', 'wb'))\n",
    "pickle.dump(ldamodel, open('gensim_lda.pickle', 'wb'))"
   ]
  },
  {
   "cell_type": "code",
   "execution_count": 13,
   "metadata": {
    "collapsed": true
   },
   "outputs": [],
   "source": [
    "dictionary = pickle.load(open('gensim_dict.pickle', 'rb'))\n",
    "ldamodel = pickle.load(open('gensim_lda.pickle', 'rb'))"
   ]
  },
  {
   "cell_type": "code",
   "execution_count": 25,
   "metadata": {},
   "outputs": [
    {
     "data": {
      "application/vnd.jupyter.widget-view+json": {
       "model_id": "0333432843a949b38d6228c8afa4946e",
       "version_major": 2,
       "version_minor": 0
      },
      "text/plain": [
       "A Jupyter Widget"
      ]
     },
     "metadata": {},
     "output_type": "display_data"
    },
    {
     "name": "stdout",
     "output_type": "stream",
     "text": [
      "\n"
     ]
    }
   ],
   "source": [
    "users_to_topics = [{'uid':int(uid), 'topics':ldamodel[dictionary.doc2bow(t.split())]} for uid, t in tqdm.tqdm_notebook(users_texts.items())]"
   ]
  },
  {
   "cell_type": "code",
   "execution_count": 16,
   "metadata": {},
   "outputs": [
    {
     "data": {
      "text/plain": [
       "gensim.models.ldamulticore.LdaMulticore"
      ]
     },
     "execution_count": 16,
     "metadata": {},
     "output_type": "execute_result"
    }
   ],
   "source": [
    "type(ldamodel)"
   ]
  },
  {
   "cell_type": "code",
   "execution_count": 2,
   "metadata": {},
   "outputs": [],
   "source": [
    "dictionary = pickle.load(open('gensim_dict.pickle', 'rb'))\n",
    "ldamodel = pickle.load(open('gensim_lda.pickle', 'rb'))"
   ]
  },
  {
   "cell_type": "code",
   "execution_count": 20,
   "metadata": {},
   "outputs": [
    {
     "data": {
      "text/plain": [
       "'angeles angels audio authentic backstage balluff bandcamp beach ca city'"
      ]
     },
     "execution_count": 20,
     "metadata": {},
     "output_type": "execute_result"
    }
   ],
   "source": [
    "' '.join([ldamodel.id2word[i] for i in range(10)])"
   ]
  },
  {
   "cell_type": "code",
   "execution_count": 12,
   "metadata": {},
   "outputs": [
    {
     "data": {
      "text/plain": [
       "[(2857, 0.039311226),\n",
       " (588, 0.020961449),\n",
       " (2295, 0.020452678),\n",
       " (3605, 0.019806115),\n",
       " (1666, 0.018828992),\n",
       " (7380, 0.017446479),\n",
       " (1119, 0.016224189),\n",
       " (2907, 0.014967185),\n",
       " (12943, 0.014300309),\n",
       " (2062, 0.011257637)]"
      ]
     },
     "execution_count": 12,
     "metadata": {},
     "output_type": "execute_result"
    }
   ],
   "source": [
    "ldamodel.get_topic_terms(1)"
   ]
  },
  {
   "cell_type": "code",
   "execution_count": 6,
   "metadata": {
    "scrolled": false
   },
   "outputs": [
    {
     "name": "stdout",
     "output_type": "stream",
     "text": [
      "(0, '0.076*\"игра\" + 0.059*\"заходить\" + 0.041*\"уровень\" + 0.040*\"очки\" + 0.039*\"набрать\" + 0.038*\"попробовать\" + 0.027*\"сокровище\" + 0.026*\"смочь\" + 0.025*\"рекорд\" + 0.022*\"бонус\"')\n",
      "(1, '0.039*\"купить\" + 0.021*\"одежда\" + 0.020*\"заказ\" + 0.020*\"продажа\" + 0.019*\"отдать\" + 0.017*\"доставка\" + 0.016*\"выбрать\" + 0.015*\"iphone\" + 0.014*\"товар\" + 0.011*\"магазин\"')\n",
      "(2, '0.084*\"россия\" + 0.056*\"победа\" + 0.020*\"победить\" + 0.018*\"чемпион\" + 0.017*\"великий\" + 0.016*\"рф\" + 0.016*\"страна\" + 0.016*\"зенит\" + 0.010*\"солдат\" + 0.010*\"борьба\"')\n",
      "(3, '0.039*\"чё\" + 0.018*\"боб\" + 0.014*\"style\" + 0.014*\"гулянка\" + 0.013*\"улыбаться\" + 0.013*\"ворот\" + 0.012*\"magic\" + 0.011*\"hill\" + 0.011*\"клон\" + 0.010*\"плакать\"')\n",
      "(4, '0.181*\"вопрос\" + 0.104*\"спрашивать\" + 0.074*\"ответ\" + 0.066*\"задать\" + 0.058*\"люба\" + 0.050*\"ру\" + 0.027*\"заходить\" + 0.023*\"билет\" + 0.021*\"ответить\" + 0.018*\"отвечать\"')\n",
      "(5, '0.042*\"команда\" + 0.030*\"спартак\" + 0.019*\"баба\" + 0.017*\"старый\" + 0.012*\"цска\" + 0.012*\"заестись\" + 0.012*\"набирать\" + 0.011*\"нервный\" + 0.010*\"присоединиться\" + 0.010*\"бл\"')\n",
      "(6, '0.027*\"дневник\" + 0.026*\"удовольствие\" + 0.023*\"вампир\" + 0.020*\"красавица\" + 0.018*\"торт\" + 0.016*\"комикс\" + 0.014*\"ах\" + 0.012*\"наслаждение\" + 0.011*\"сок\" + 0.010*\"умница\"')\n",
      "(7, '0.131*\"нету\" + 0.015*\"строить\" + 0.014*\"масса\" + 0.013*\"яйцо\" + 0.013*\"тд\" + 0.012*\"ложка\" + 0.012*\"блондинка\" + 0.012*\"глазок\" + 0.010*\"гр\" + 0.010*\"скейт\"')\n",
      "(8, '0.025*\"alt\" + 0.015*\"ахах\" + 0.010*\"естественно\" + 0.009*\"посадить\" + 0.009*\"итальянский\" + 0.009*\"учитель\" + 0.009*\"журналист\" + 0.009*\"италия\" + 0.008*\"вырастить\" + 0.008*\"здание\"')\n",
      "(9, '0.140*\"смотреть\" + 0.057*\"онлайн\" + 0.044*\"видео\" + 0.029*\"новый\" + 0.027*\"серия\" + 0.026*\"поздравление\" + 0.022*\"сезон\" + 0.019*\"фильм\" + 0.019*\"youtube\" + 0.017*\"посмотреть\"')\n",
      "(10, '0.041*\"карта\" + 0.025*\"рыбалка\" + 0.023*\"чудо\" + 0.023*\"пол\" + 0.020*\"охота\" + 0.018*\"велосипед\" + 0.017*\"активный\" + 0.014*\"шахматы\" + 0.014*\"деньга\" + 0.014*\"лыжа\"')\n",
      "(11, '0.015*\"отец\" + 0.014*\"шерлок\" + 0.014*\"кошка\" + 0.011*\"чёрный\" + 0.010*\"владимир\" + 0.010*\"библия\" + 0.010*\"холмс\" + 0.009*\"высоцкий\" + 0.009*\"крестный\" + 0.009*\"фрая\"')\n",
      "(12, '0.151*\"отправить\" + 0.035*\"приложение\" + 0.023*\"установить\" + 0.022*\"открыть\" + 0.019*\"тема\" + 0.018*\"лента\" + 0.017*\"успеть\" + 0.016*\"объявление\" + 0.016*\"получить\" + 0.015*\"свой\"')\n",
      "(13, '0.030*\"алексей\" + 0.026*\"пожалеть\" + 0.020*\"мыть\" + 0.020*\"тат\" + 0.020*\"окружать\" + 0.019*\"поздно\" + 0.019*\"уход\" + 0.019*\"настя\" + 0.016*\"екатерина\" + 0.015*\"илья\"')\n",
      "(14, '0.043*\"зелёный\" + 0.033*\"бизнес\" + 0.025*\"миля\" + 0.023*\"побег\" + 0.021*\"психология\" + 0.014*\"саморазвитие\" + 0.013*\"шоушенка\" + 0.012*\"доктор\" + 0.012*\"успех\" + 0.011*\"теория\"')\n",
      "(15, '0.038*\"война\" + 0.037*\"world\" + 0.018*\"call\" + 0.017*\"звёздный\" + 0.016*\"сектор\" + 0.016*\"tanks\" + 0.015*\"speed\" + 0.015*\"газа\" + 0.015*\"duty\" + 0.015*\"пельмень\"')\n",
      "(16, '0.073*\"любовь\" + 0.034*\"роман\" + 0.023*\"верить\" + 0.021*\"тайна\" + 0.020*\"иван\" + 0.016*\"танец\" + 0.013*\"голубь\" + 0.013*\"москва\" + 0.013*\"слеза\" + 0.012*\"звезда\"')\n",
      "(17, '0.085*\"брат\" + 0.028*\"хватить\" + 0.020*\"достаточно\" + 0.018*\"груз\" + 0.017*\"xxxxxx\" + 0.014*\"порвать\" + 0.013*\"обещать\" + 0.012*\"уходить\" + 0.011*\"найти\" + 0.011*\"слово\"')\n",
      "(18, '0.072*\"x\" + 0.039*\"название\" + 0.026*\"анастасий\" + 0.023*\"юлий\" + 0.019*\"strike\" + 0.016*\"counter\" + 0.014*\"пыль\" + 0.011*\"бро\" + 0.011*\"мисс\" + 0.010*\"алёна\"')\n",
      "(19, '0.063*\"попасть\" + 0.028*\"рыба\" + 0.021*\"тратить\" + 0.019*\"прожить\" + 0.015*\"омар\" + 0.012*\"хайям\" + 0.012*\"вместо\" + 0.010*\"запомнить\" + 0.010*\"брюнетка\" + 0.009*\"вместе\"')\n",
      "(20, '0.083*\"женщина\" + 0.079*\"мужчина\" + 0.020*\"сильный\" + 0.016*\"должный\" + 0.014*\"любовь\" + 0.014*\"красивый\" + 0.013*\"девушка\" + 0.012*\"умный\" + 0.011*\"настоящий\" + 0.011*\"делать\"')\n",
      "(21, '0.187*\"место\" + 0.034*\"ярославль\" + 0.015*\"секрет\" + 0.015*\"первое\" + 0.014*\"занять\" + 0.013*\"группа\" + 0.012*\"девушка\" + 0.011*\"город\" + 0.011*\"заявка\" + 0.011*\"турнир\"')\n",
      "(22, '0.044*\"любить\" + 0.018*\"любовь\" + 0.016*\"сердце\" + 0.012*\"знать\" + 0.009*\"ждать\" + 0.009*\"забыть\" + 0.009*\"скучать\" + 0.009*\"друг\" + 0.009*\"глаз\" + 0.009*\"никто\"')\n",
      "(23, '0.034*\"татуировка\" + 0.019*\"южный\" + 0.018*\"цитата\" + 0.018*\"костя\" + 0.015*\"государство\" + 0.014*\"секретный\" + 0.011*\"палка\" + 0.010*\"нанести\" + 0.009*\"вадим\" + 0.008*\"централ\"')\n",
      "(24, '0.069*\"новость\" + 0.023*\"синий\" + 0.014*\"вершина\" + 0.012*\"клондайка\" + 0.010*\"отправляться\" + 0.010*\"приезжать\" + 0.010*\"бабка\" + 0.009*\"коробка\" + 0.008*\"долина\" + 0.008*\"ярмарка\"')\n",
      "(25, '0.020*\"тренировка\" + 0.019*\"курс\" + 0.015*\"занятие\" + 0.015*\"школа\" + 0.014*\"зал\" + 0.013*\"фитнес\" + 0.013*\"тело\" + 0.011*\"творческий\" + 0.011*\"знание\" + 0.010*\"процесс\"')\n",
      "(26, '0.072*\"друг\" + 0.038*\"писать\" + 0.020*\"привет\" + 0.018*\"лайк\" + 0.018*\"рассказать\" + 0.017*\"написать\" + 0.016*\"девушка\" + 0.015*\"нравиться\" + 0.013*\"новый\" + 0.013*\"страница\"')\n",
      "(27, '0.077*\"дать\" + 0.055*\"личный\" + 0.034*\"уходить\" + 0.034*\"мировой\" + 0.029*\"тайный\" + 0.021*\"правительство\" + 0.017*\"охотиться\" + 0.015*\"подполье\" + 0.015*\"иллюминат\" + 0.015*\"сионист\"')\n",
      "(28, '0.030*\"мама\" + 0.018*\"ребёнок\" + 0.016*\"девушка\" + 0.014*\"знать\" + 0.012*\"жена\" + 0.012*\"сын\" + 0.011*\"муж\" + 0.010*\"мужик\" + 0.009*\"парень\" + 0.009*\"отец\"')\n",
      "(29, '0.052*\"вконтакте\" + 0.038*\"информация\" + 0.024*\"право\" + 0.023*\"страница\" + 0.021*\"текст\" + 0.019*\"пользователь\" + 0.015*\"дать\" + 0.014*\"запретить\" + 0.014*\"являться\" + 0.014*\"профиль\"')\n",
      "(30, '0.051*\"фотостатус\" + 0.031*\"рисунок\" + 0.029*\"оценить\" + 0.025*\"тюрьма\" + 0.021*\"авторский\" + 0.019*\"дот\" + 0.018*\"объект\" + 0.015*\"quot\" + 0.013*\"бутырка\" + 0.010*\"помещение\"')\n",
      "(31, '0.049*\"музыка\" + 0.047*\"альбом\" + 0.033*\"песня\" + 0.033*\"скачать\" + 0.032*\"трек\" + 0.028*\"слушать\" + 0.024*\"новый\" + 0.020*\"песнь\" + 0.020*\"клип\" + 0.018*\"бесплатно\"')\n",
      "(32, '0.022*\"ресторан\" + 0.014*\"ресница\" + 0.013*\"январь\" + 0.012*\"салон\" + 0.012*\"ждать\" + 0.011*\"четверг\" + 0.010*\"кафе\" + 0.010*\"наращивание\" + 0.009*\"красота\" + 0.009*\"адрес\"')\n",
      "(33, '0.016*\"поворот\" + 0.016*\"скрытый\" + 0.013*\"кошмар\" + 0.013*\"дом\" + 0.013*\"явление\" + 0.013*\"университет\" + 0.013*\"могила\" + 0.010*\"улица\" + 0.009*\"тюнинг\" + 0.009*\"битый\"')\n",
      "(34, '0.051*\"цена\" + 0.025*\"рубль\" + 0.021*\"скидка\" + 0.018*\"телефон\" + 0.018*\"размер\" + 0.015*\"магазин\" + 0.014*\"наличие\" + 0.013*\"продавать\" + 0.012*\"платье\" + 0.011*\"заказ\"')\n",
      "(35, '0.086*\"либо\" + 0.025*\"бля\" + 0.023*\"понедельник\" + 0.023*\"неделя\" + 0.022*\"пятница\" + 0.017*\"поездка\" + 0.016*\"среда\" + 0.013*\"отель\" + 0.012*\"бла\" + 0.010*\"взгляд\"')\n",
      "(36, '0.059*\"сайт\" + 0.044*\"канал\" + 0.036*\"youtube\" + 0.035*\"видео\" + 0.027*\"сеть\" + 0.026*\"реклама\" + 0.024*\"официальный\" + 0.020*\"группа\" + 0.020*\"социальный\" + 0.019*\"создание\"')\n",
      "(37, '0.062*\"друг\" + 0.041*\"подарок\" + 0.037*\"помочь\" + 0.027*\"нужный\" + 0.021*\"помощь\" + 0.021*\"ссылка\" + 0.017*\"получить\" + 0.016*\"нажать\" + 0.015*\"рассказать\" + 0.013*\"просить\"')\n",
      "(38, '0.084*\"кот\" + 0.019*\"дима\" + 0.013*\"найти\" + 0.013*\"котёнок\" + 0.013*\"ольга\" + 0.011*\"коты\" + 0.011*\"юля\" + 0.010*\"самый\" + 0.010*\"тюряга\" + 0.009*\"боец\"')\n",
      "(39, '0.022*\"выпуск\" + 0.016*\"аудиозапись\" + 0.015*\"юрий\" + 0.012*\"дракон\" + 0.012*\"minecraft\" + 0.011*\"потолок\" + 0.010*\"вова\" + 0.010*\"ღ\" + 0.007*\"гавный\" + 0.007*\"бандит\"')\n",
      "(40, '0.052*\"любимый\" + 0.044*\"самый\" + 0.034*\"хороший\" + 0.025*\"любить\" + 0.021*\"рождение\" + 0.017*\"днём\" + 0.016*\"девочка\" + 0.014*\"ребёнок\" + 0.014*\"счастие\" + 0.012*\"счастливый\"')\n",
      "(41, '0.066*\"love\" + 0.031*\"life\" + 0.022*\"like\" + 0.019*\"one\" + 0.017*\"happy\" + 0.015*\"good\" + 0.014*\"time\" + 0.011*\"man\" + 0.010*\"night\" + 0.009*\"never\"')\n",
      "(42, '0.021*\"фотограф\" + 0.016*\"фотография\" + 0.015*\"компания\" + 0.014*\"москва\" + 0.014*\"услуга\" + 0.013*\"ремонт\" + 0.011*\"профессиональный\" + 0.010*\"дизайн\" + 0.010*\"фото\" + 0.009*\"съёмка\"')\n",
      "(43, '0.102*\"рубль\" + 0.048*\"литр\" + 0.024*\"бутылочка\" + 0.020*\"ёлочка\" + 0.016*\"шт\" + 0.012*\"ю\" + 0.012*\"яблоко\" + 0.011*\"пакет\" + 0.010*\"скучно\" + 0.010*\"z\"')\n",
      "(44, '0.046*\"король\" + 0.019*\"mc\" + 0.017*\"шут\" + 0.015*\"sex\" + 0.014*\"noize\" + 0.013*\"джек\" + 0.013*\"лондон\" + 0.011*\"вечерний\" + 0.009*\"ургант\" + 0.008*\"бухнуть\"')\n",
      "(45, '0.056*\"волос\" + 0.040*\"facebook\" + 0.031*\"go\" + 0.026*\"глаз\" + 0.026*\"цвета\" + 0.025*\"cs\" + 0.024*\"делиться\" + 0.023*\"маникюр\" + 0.022*\"макс\" + 0.019*\"длинный\"')\n",
      "(46, '0.062*\"russia\" + 0.052*\"р\" + 0.033*\"moscow\" + 0.023*\"petersburg\" + 0.022*\"парк\" + 0.019*\"saint\" + 0.015*\"oblast\" + 0.011*\"гнездо\" + 0.010*\"проспект\" + 0.010*\"st\"')\n",
      "(47, '0.026*\"делать\" + 0.022*\"нравиться\" + 0.021*\"че\" + 0.015*\"слушать\" + 0.015*\"надоесть\" + 0.012*\"спускаться\" + 0.012*\"остановиться\" + 0.011*\"знать\" + 0.010*\"ладный\" + 0.009*\"лицо\"')\n",
      "(48, '0.030*\"святой\" + 0.027*\"олег\" + 0.023*\"поделиться\" + 0.020*\"валентин\" + 0.014*\"askfm\" + 0.014*\"барселона\" + 0.013*\"оля\" + 0.011*\"лася\" + 0.010*\"кинематограф\" + 0.009*\"стрит\"')\n",
      "(49, '0.047*\"сон\" + 0.016*\"сладкое\" + 0.011*\"админ\" + 0.011*\"радуга\" + 0.010*\"шоколад\" + 0.009*\"египет\" + 0.009*\"клевый\" + 0.009*\"туса\" + 0.008*\"смс\" + 0.008*\"жарко\"')\n",
      "(50, '0.022*\"тур\" + 0.020*\"павел\" + 0.020*\"steam\" + 0.020*\"чемпионат\" + 0.017*\"кубок\" + 0.015*\"community\" + 0.014*\"перевод\" + 0.013*\"кошелёк\" + 0.012*\"лига\" + 0.010*\"календарь\"')\n",
      "(51, '0.267*\"игра\" + 0.097*\"получить\" + 0.090*\"достижение\" + 0.059*\"уровень\" + 0.050*\"дарить\" + 0.015*\"гуру\" + 0.011*\"кола\" + 0.010*\"трагедия\" + 0.010*\"ром\" + 0.010*\"фанат\"')\n",
      "(52, '0.086*\"деньга\" + 0.063*\"интернет\" + 0.025*\"бизнес\" + 0.024*\"богатый\" + 0.020*\"зарабатывать\" + 0.019*\"папа\" + 0.016*\"заработок\" + 0.015*\"бедный\" + 0.015*\"заработать\" + 0.013*\"маркетинг\"')\n",
      "(53, '0.162*\"пройти\" + 0.086*\"тест\" + 0.066*\"узнать\" + 0.039*\"результат\" + 0.036*\"ссылка\" + 0.019*\"посмотреть\" + 0.018*\"поклонник\" + 0.015*\"подходить\" + 0.015*\"месяц\" + 0.012*\"психологический\"')\n",
      "(54, '0.038*\"небо\" + 0.023*\"х\" + 0.019*\"мечта\" + 0.015*\"ф\" + 0.014*\"достучаться\" + 0.014*\"кинг\" + 0.014*\"клуб\" + 0.013*\"бойцовский\" + 0.012*\"стивен\" + 0.011*\"бабочка\"')\n",
      "(55, '0.049*\"репост\" + 0.036*\"запись\" + 0.036*\"конкурс\" + 0.034*\"группа\" + 0.031*\"сделать\" + 0.025*\"победитель\" + 0.020*\"розыгрыш\" + 0.015*\"условие\" + 0.015*\"участие\" + 0.014*\"приз\"')\n",
      "(56, '0.041*\"музыка\" + 0.025*\"рок\" + 0.020*\"комедия\" + 0.019*\"книга\" + 0.018*\"кино\" + 0.017*\"спорт\" + 0.017*\"фантастика\" + 0.016*\"классика\" + 0.016*\"фильм\" + 0.015*\"разный\"')\n",
      "(57, '0.050*\"создавать\" + 0.042*\"взять\" + 0.040*\"шутка\" + 0.037*\"loading\" + 0.035*\"хороший\" + 0.025*\"макияж\" + 0.021*\"причёска\" + 0.012*\"wars\" + 0.012*\"contract\" + 0.011*\"оценка\"')\n",
      "(58, '0.036*\"фильм\" + 0.020*\"хороший\" + 0.019*\"самый\" + 0.019*\"часть\" + 0.018*\"просмотр\" + 0.018*\"приятный\" + 0.018*\"подборка\" + 0.014*\"забирать\" + 0.012*\"стен\" + 0.011*\"source\"')\n",
      "(59, '0.058*\"открытка\" + 0.053*\"картинка\" + 0.048*\"красивый\" + 0.040*\"свадьба\" + 0.024*\"художник\" + 0.022*\"мода\" + 0.014*\"невеста\" + 0.014*\"яндекс\" + 0.014*\"ведущий\" + 0.013*\"картина\"')\n",
      "(60, '0.024*\"park\" + 0.019*\"linkin\" + 0.015*\"аниме\" + 0.014*\"day\" + 0.012*\"rammstein\" + 0.011*\"metallica\" + 0.010*\"ария\" + 0.010*\"slipknot\" + 0.009*\"nirvana\" + 0.009*\"dc\"')\n",
      "(61, '0.040*\"проект\" + 0.032*\"мария\" + 0.030*\"бесплатный\" + 0.026*\"анна\" + 0.024*\"интересно\" + 0.022*\"шок\" + 0.021*\"ремарк\" + 0.017*\"прочитать\" + 0.017*\"la\" + 0.016*\"обязательно\"')\n",
      "(62, '0.137*\"любить\" + 0.030*\"читать\" + 0.020*\"гулять\" + 0.019*\"играть\" + 0.016*\"смотреть\" + 0.016*\"музыка\" + 0.016*\"красивый\" + 0.015*\"учиться\" + 0.014*\"слушать\" + 0.014*\"разный\"')\n",
      "(63, '0.044*\"дед\" + 0.038*\"мороз\" + 0.028*\"танк\" + 0.022*\"помогать\" + 0.021*\"bmw\" + 0.020*\"заценить\" + 0.020*\"воля\" + 0.012*\"мина\" + 0.011*\"передать\" + 0.011*\"неа\"')\n",
      "(64, '0.163*\"работа\" + 0.022*\"дом\" + 0.015*\"работать\" + 0.013*\"область\" + 0.010*\"требоваться\" + 0.009*\"район\" + 0.008*\"связь\" + 0.008*\"репост\" + 0.008*\"помочь\" + 0.007*\"просьба\"')\n",
      "(65, '0.072*\"показать\" + 0.051*\"результат\" + 0.035*\"минитест\" + 0.035*\"протестироваться\" + 0.021*\"самолёт\" + 0.019*\"рецепт\" + 0.014*\"вкусный\" + 0.013*\"масло\" + 0.012*\"шар\" + 0.011*\"мясо\"')\n",
      "(66, '0.011*\"друг\" + 0.011*\"хороший\" + 0.011*\"самый\" + 0.010*\"делать\" + 0.009*\"жить\" + 0.009*\"свой\" + 0.008*\"любовь\" + 0.008*\"любить\" + 0.008*\"знать\" + 0.007*\"думать\"')\n",
      "(67, '0.040*\"кровь\" + 0.020*\"экзамен\" + 0.019*\"сдать\" + 0.017*\"елена\" + 0.017*\"ааа\" + 0.015*\"орёл\" + 0.013*\"диплом\" + 0.012*\"ммм\" + 0.011*\"урааа\" + 0.010*\"больница\"')\n",
      "(68, '0.104*\"голос\" + 0.021*\"рейтинг\" + 0.016*\"артём\" + 0.015*\"radio\" + 0.013*\"xd\" + 0.011*\"record\" + 0.009*\"ебал\" + 0.008*\"ай\" + 0.008*\"ня\" + 0.007*\"шо\"')\n",
      "(69, '0.072*\"music\" + 0.034*\"new\" + 0.029*\"video\" + 0.022*\"official\" + 0.020*\"live\" + 0.019*\"dance\" + 0.015*\"best\" + 0.015*\"van\" + 0.014*\"free\" + 0.014*\"feat\"')\n",
      "(70, '0.043*\"коллекция\" + 0.038*\"армия\" + 0.029*\"километр\" + 0.028*\"собрать\" + 0.019*\"poker\" + 0.014*\"число\" + 0.013*\"элемент\" + 0.011*\"мишка\" + 0.011*\"инстагра\" + 0.010*\"аня\"')\n",
      "(71, '0.115*\"собака\" + 0.096*\"создать\" + 0.096*\"страница\" + 0.039*\"зарегистрироваться\" + 0.028*\"жить\" + 0.027*\"работать\" + 0.024*\"оставаться\" + 0.023*\"стенка\" + 0.018*\"интернет\" + 0.017*\"овощ\"')\n",
      "(72, '0.041*\"маленький\" + 0.036*\"принц\" + 0.031*\"камень\" + 0.016*\"де\" + 0.015*\"здорово\" + 0.013*\"viber\" + 0.012*\"part\" + 0.010*\"ㅤㅤㅤ\" + 0.010*\"вспомнить\" + 0.009*\"антуан\"')\n",
      "(73, '0.103*\"клуб\" + 0.053*\"dj\" + 0.036*\"вечеринка\" + 0.018*\"бар\" + 0.016*\"вход\" + 0.011*\"ночное\" + 0.011*\"клубный\" + 0.010*\"тусовка\" + 0.009*\"guf\" + 0.008*\"начать\"')\n",
      "(74, '0.107*\"мастер\" + 0.057*\"маргарита\" + 0.052*\"плата\" + 0.028*\"з\" + 0.028*\"ветер\" + 0.019*\"серый\" + 0.018*\"унести\" + 0.018*\"булгаков\" + 0.015*\"оттенок\" + 0.015*\"евгений\"')\n",
      "(75, '0.065*\"house\" + 0.062*\"секс\" + 0.033*\"trance\" + 0.030*\"буква\" + 0.022*\"electro\" + 0.020*\"rap\" + 0.019*\"bass\" + 0.017*\"b\" + 0.017*\"код\" + 0.016*\"techno\"')\n",
      "(76, '0.023*\"плюс\" + 0.019*\"класс\" + 0.017*\"власть\" + 0.017*\"минус\" + 0.015*\"кс\" + 0.012*\"персонаж\" + 0.011*\"жертва\" + 0.011*\"уникальный\" + 0.011*\"смысл\" + 0.010*\"мир\"')\n",
      "(77, '0.097*\"добавить\" + 0.092*\"стен\" + 0.036*\"потерять\" + 0.022*\"забирать\" + 0.019*\"сохранить\" + 0.012*\"сохранять\" + 0.012*\"получиться\" + 0.010*\"раб\" + 0.008*\"пригодиться\" + 0.008*\"добавлять\"')\n",
      "(78, '0.058*\"го\" + 0.040*\"гора\" + 0.022*\"бухать\" + 0.020*\"ага\" + 0.019*\"статус\" + 0.013*\"малый\" + 0.011*\"ахи\" + 0.010*\"дааа\" + 0.009*\"рак\" + 0.009*\"киса\"')\n",
      "(79, '0.075*\"пить\" + 0.064*\"курить\" + 0.026*\"бывать\" + 0.021*\"мат\" + 0.021*\"вечный\" + 0.021*\"чистый\" + 0.018*\"ругаться\" + 0.017*\"разум\" + 0.012*\"правда\" + 0.012*\"сияние\"')\n",
      "(80, '0.028*\"труд\" + 0.020*\"вор\" + 0.018*\"рыбка\" + 0.015*\"грязь\" + 0.015*\"фёдор\" + 0.013*\"владеть\" + 0.012*\"карнеги\" + 0.011*\"закон\" + 0.010*\"китайский\" + 0.010*\"судья\"')\n",
      "(81, '0.011*\"внутри\" + 0.009*\"след\" + 0.009*\"вперёд\" + 0.008*\"дух\" + 0.007*\"облако\" + 0.007*\"чёрный\" + 0.006*\"дерьмо\" + 0.006*\"голов\" + 0.006*\"лечь\" + 0.006*\"белый\"')\n",
      "(82, '0.042*\"r\" + 0.039*\"l\" + 0.039*\"e\" + 0.030*\"k\" + 0.023*\"v\" + 0.020*\"gta\" + 0.020*\"dota\" + 0.017*\"n\" + 0.014*\"b\" + 0.014*\"c\"')\n",
      "(83, '0.034*\"вес\" + 0.033*\"килограмм\" + 0.028*\"миллион\" + 0.027*\"сантиметр\" + 0.023*\"рост\" + 0.019*\"модель\" + 0.018*\"vs\" + 0.018*\"поиск\" + 0.015*\"сервис\" + 0.015*\"поймать\"')\n",
      "(84, '0.044*\"матч\" + 0.023*\"red\" + 0.018*\"ставка\" + 0.017*\"футбольный\" + 0.017*\"прогноз\" + 0.015*\"гол\" + 0.012*\"hot\" + 0.010*\"побеждать\" + 0.009*\"договорный\" + 0.009*\"джо\"')\n",
      "(85, '0.054*\"волк\" + 0.025*\"послать\" + 0.023*\"ஜ\" + 0.017*\"мера\" + 0.017*\"пропасть\" + 0.016*\"кирпич\" + 0.012*\"ржа\" + 0.011*\"бумага\" + 0.011*\"домохозяйка\" + 0.011*\"овца\"')\n",
      "(86, '0.050*\"машина\" + 0.033*\"автомобиль\" + 0.016*\"ехать\" + 0.014*\"авто\" + 0.013*\"водитель\" + 0.012*\"дорога\" + 0.011*\"ваза\" + 0.011*\"путин\" + 0.009*\"президент\" + 0.009*\"руль\"')\n",
      "(87, '0.046*\"квартира\" + 0.044*\"найти\" + 0.023*\"желание\" + 0.018*\"недвижимость\" + 0.012*\"комната\" + 0.011*\"спасти\" + 0.010*\"загадать\" + 0.010*\"аренда\" + 0.007*\"iiiiiiiiiiiiiiiiiiiiiiiiiiiiiiiiiiiiiiiiiiiiiiiiiii\" + 0.007*\"хуйня\"')\n",
      "(88, '0.083*\"уровень\" + 0.069*\"получить\" + 0.060*\"играть\" + 0.050*\"новый\" + 0.045*\"игра\" + 0.033*\"ура\" + 0.032*\"присоединяться\" + 0.022*\"вместе\" + 0.018*\"награда\" + 0.018*\"достигнуть\"')\n",
      "(89, '0.021*\"стоить\" + 0.020*\"ради\" + 0.017*\"тьма\" + 0.014*\"падать\" + 0.013*\"вормикс\" + 0.011*\"яд\" + 0.010*\"иллюзия\" + 0.009*\"ххх\" + 0.009*\"жить\" + 0.007*\"смертный\"')\n",
      "(90, '0.045*\"rock\" + 0.034*\"metal\" + 0.023*\"прикол\" + 0.016*\"ха\" + 0.015*\"black\" + 0.014*\"hard\" + 0.012*\"death\" + 0.010*\"гражданский\" + 0.008*\"punk\" + 0.008*\"last\"')\n",
      "(91, '0.025*\"гарри\" + 0.021*\"поттер\" + 0.019*\"толстой\" + 0.018*\"кольцо\" + 0.017*\"век\" + 0.016*\"левый\" + 0.012*\"властелин\" + 0.011*\"пушкин\" + 0.009*\"есенин\" + 0.009*\"александр\"')\n",
      "(92, '0.038*\"язык\" + 0.018*\"английский\" + 0.015*\"цель\" + 0.012*\"золото\" + 0.009*\"решение\" + 0.008*\"дело\" + 0.008*\"внимание\" + 0.008*\"русский\" + 0.006*\"изучать\" + 0.006*\"профессионал\"')\n",
      "(93, '0.054*\"футбол\" + 0.037*\"спорт\" + 0.018*\"камедь\" + 0.015*\"клаб\" + 0.013*\"хоккей\" + 0.012*\"форсажа\" + 0.012*\"далее\" + 0.011*\"музыка\" + 0.010*\"игра\" + 0.010*\"гонка\"')\n",
      "(94, '0.018*\"косметика\" + 0.012*\"бельё\" + 0.012*\"ёжик\" + 0.012*\"нижний\" + 0.011*\"кожа\" + 0.009*\"домик\" + 0.008*\"нереально\" + 0.008*\"медвежонок\" + 0.008*\"мм\" + 0.007*\"нигде\"')\n",
      "(95, '0.016*\"спать\" + 0.013*\"рука\" + 0.012*\"идти\" + 0.010*\"думать\" + 0.010*\"глаз\" + 0.009*\"сидеть\" + 0.009*\"видеть\" + 0.008*\"нога\" + 0.008*\"ночь\" + 0.007*\"смотреть\"')\n",
      "(96, '0.048*\"скорость\" + 0.044*\"тачка\" + 0.026*\"саша\" + 0.020*\"игорь\" + 0.020*\"ангел\" + 0.020*\"демон\" + 0.019*\"порно\" + 0.018*\"пиво\" + 0.018*\"магия\" + 0.016*\"ок\"')\n",
      "(97, '0.021*\"бежать\" + 0.020*\"закат\" + 0.019*\"рассвет\" + 0.014*\"волна\" + 0.013*\"конь\" + 0.012*\"берег\" + 0.010*\"гореть\" + 0.007*\"свеча\" + 0.007*\"душа\" + 0.007*\"глубина\"')\n",
      "(98, '0.023*\"массаж\" + 0.019*\"удивительный\" + 0.014*\"поспать\" + 0.014*\"психолог\" + 0.013*\"дарья\" + 0.013*\"эротический\" + 0.009*\"слайдшоу\" + 0.009*\"picrolla\" + 0.009*\"йог\" + 0.008*\"донцов\"')\n",
      "(99, '0.029*\"фото\" + 0.026*\"лето\" + 0.025*\"новый\" + 0.022*\"утро\" + 0.018*\"праздник\" + 0.017*\"питер\" + 0.017*\"город\" + 0.017*\"добрый\" + 0.016*\"скоро\" + 0.014*\"весна\"')\n"
     ]
    }
   ],
   "source": [
    "for t in ldamodel.show_topics(num_topics=100):\n",
    "    print(t)"
   ]
  },
  {
   "cell_type": "code",
   "execution_count": 36,
   "metadata": {
    "collapsed": true
   },
   "outputs": [],
   "source": [
    "def fix_topics(topics):\n",
    "    return [(idx, float(val)) for idx, val in topics]"
   ]
  },
  {
   "cell_type": "code",
   "execution_count": 37,
   "metadata": {
    "collapsed": true
   },
   "outputs": [],
   "source": [
    "users_to_topics = [{'uid':t['uid'], 'topics':fix_topics(t['topics'])} for t in users_to_topics]"
   ]
  },
  {
   "cell_type": "code",
   "execution_count": 38,
   "metadata": {},
   "outputs": [
    {
     "data": {
      "text/plain": [
       "<pymongo.results.InsertManyResult at 0x7f5be16c5a48>"
      ]
     },
     "execution_count": 38,
     "metadata": {},
     "output_type": "execute_result"
    }
   ],
   "source": [
    "db.topics.insert_many(users_to_topics)"
   ]
  },
  {
   "cell_type": "code",
   "execution_count": 40,
   "metadata": {},
   "outputs": [
    {
     "data": {
      "text/plain": [
       "[[0.0, 0.0, 0.0, 0.0, 0.0, 0.0, 0.0, 0.0, 0.0, 0.0],\n",
       " [0.0, 0.0, 0.0, 0.0, 0.0, 0.0, 0.0, 0.0, 0.0, 0.0],\n",
       " [0.0, 0.0, 0.0, 0.0, 0.0, 0.0, 0.0, 0.0, 0.0, 0.0],\n",
       " [0.0, 0.0, 0.0, 0.0, 0.0, 0.0, 0.0, 0.0, 0.0, 0.0],\n",
       " [0.0, 0.0, 0.0, 0.0, 0.0, 0.0, 0.0, 0.0, 0.0, 0.0],\n",
       " [0.0, 0.0, 0.0, 0.0, 0.0, 0.0, 0.0, 0.0, 0.0, 0.0],\n",
       " [0.0, 0.0, 0.0, 0.0, 0.0, 0.0, 0.0, 0.0, 0.0, 0.0],\n",
       " [0.0, 0.0, 0.0, 0.0, 0.0, 0.0, 0.0, 0.0, 0.0, 0.0],\n",
       " [0.0, 0.0, 0.0, 0.0, 0.0, 0.0, 0.0, 0.0, 0.0, 0.0],\n",
       " [0.0, 0.0, 0.0, 0.0, 0.0, 0.0, 0.0, 0.0, 0.0, 0.0]]"
      ]
     },
     "execution_count": 40,
     "metadata": {},
     "output_type": "execute_result"
    }
   ],
   "source": []
  },
  {
   "cell_type": "code",
   "execution_count": 22,
   "metadata": {
    "collapsed": true
   },
   "outputs": [],
   "source": [
    "# bv = artm.BatchVectorizer(data_format='bow_n_wd',\n",
    "#                           n_wd=tf,\n",
    "#                           vocabulary=vocabulary)"
   ]
  },
  {
   "cell_type": "code",
   "execution_count": 25,
   "metadata": {
    "collapsed": true
   },
   "outputs": [],
   "source": [
    "# lda = LatentDirichletAllocation(n_topics=TOPICS_COUNT, max_iter=20,\n",
    "#                                 learning_method='online', learning_offset=50.,\n",
    "#                                 random_state=0, verbose=1, n_jobs=2).fit(tf)"
   ]
  },
  {
   "cell_type": "code",
   "execution_count": null,
   "metadata": {
    "collapsed": true
   },
   "outputs": [],
   "source": [
    "tf_feature_names = cv.get_feature_names()\n",
    "print_top_words(lda, tf_feature_names, TOP_WORDS)"
   ]
  },
  {
   "cell_type": "code",
   "execution_count": 33,
   "metadata": {
    "collapsed": true
   },
   "outputs": [],
   "source": [
    "with open('vect.bin', 'wb') as out:\n",
    "    pickle.dump(tf_vectorizer, out)\n",
    "with open('lda.bin', 'wb') as out:\n",
    "    pickle.dump(lda, out)"
   ]
  },
  {
   "cell_type": "code",
   "execution_count": 12,
   "metadata": {
    "collapsed": true
   },
   "outputs": [],
   "source": [
    "with open('vect.bin', 'rb') as in_file:\n",
    "    vect = pickle.load(in_file)\n",
    "with open('lda.bin', 'rb') as in_file:\n",
    "    lda = pickle.load(in_file)"
   ]
  },
  {
   "cell_type": "code",
   "execution_count": 13,
   "metadata": {
    "collapsed": true
   },
   "outputs": [],
   "source": [
    "tf = vect.transform(only_texts)"
   ]
  },
  {
   "cell_type": "code",
   "execution_count": 14,
   "metadata": {
    "collapsed": true
   },
   "outputs": [],
   "source": [
    "topics_matrix = lda.transform(topics_matrix)"
   ]
  },
  {
   "cell_type": "code",
   "execution_count": 17,
   "metadata": {},
   "outputs": [
    {
     "data": {
      "text/plain": [
       "<pymongo.results.InsertManyResult at 0x7f9596b7c948>"
      ]
     },
     "execution_count": 17,
     "metadata": {},
     "output_type": "execute_result"
    }
   ],
   "source": [
    "db.topics.insert_many([{'uid': uid, 'topics':t.tolist()} for t, uid in zip(topics_matrix, users_texts.keys())])"
   ]
  },
  {
   "cell_type": "code",
   "execution_count": null,
   "metadata": {
    "collapsed": true
   },
   "outputs": [],
   "source": []
  },
  {
   "cell_type": "code",
   "execution_count": null,
   "metadata": {
    "collapsed": true
   },
   "outputs": [],
   "source": []
  }
 ],
 "metadata": {
  "kernelspec": {
   "display_name": "Python 3",
   "language": "python",
   "name": "python3"
  },
  "language_info": {
   "codemirror_mode": {
    "name": "ipython",
    "version": 3
   },
   "file_extension": ".py",
   "mimetype": "text/x-python",
   "name": "python",
   "nbconvert_exporter": "python",
   "pygments_lexer": "ipython3",
   "version": "3.6.3"
  }
 },
 "nbformat": 4,
 "nbformat_minor": 2
}
